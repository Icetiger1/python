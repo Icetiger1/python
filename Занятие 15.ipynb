{
  "nbformat": 4,
  "nbformat_minor": 0,
  "metadata": {
    "colab": {
      "provenance": [],
      "toc_visible": true,
      "include_colab_link": true
    },
    "kernelspec": {
      "name": "python3",
      "display_name": "Python 3"
    },
    "language_info": {
      "name": "python"
    }
  },
  "cells": [
    {
      "cell_type": "markdown",
      "metadata": {
        "id": "view-in-github",
        "colab_type": "text"
      },
      "source": [
        "<a href=\"https://colab.research.google.com/github/Icetiger1/python/blob/main/%D0%97%D0%B0%D0%BD%D1%8F%D1%82%D0%B8%D0%B5%2015.ipynb\" target=\"_parent\"><img src=\"https://colab.research.google.com/assets/colab-badge.svg\" alt=\"Open In Colab\"/></a>"
      ]
    },
    {
      "cell_type": "code",
      "execution_count": null,
      "metadata": {
        "id": "ZhxdKaR-H4XT"
      },
      "outputs": [],
      "source": [
        "!apt-get install openjdk-11-jdk-headless > /dev/null\n",
        "!wget https://archive.apache.org/dist/spark/spark-3.2.1/spark-3.2.1-bin-hadoop2.7.tgz\n",
        "!tar -xf /content/spark-3.2.1-bin-hadoop2.7.tgz\n",
        "!pip install findspark\n",
        "!pip install pyspark==3.2.1"
      ]
    },
    {
      "cell_type": "code",
      "source": [
        "#переменные окружения\n",
        "import os\n",
        "os.environ['JAVA_HOME'] = '/usr/lib/jvm/java-11-openjdk-amd64'\n",
        "os.environ['SPARK_HOME'] = '/content/spark-3.2.1-bin-hadoop2.7'"
      ],
      "metadata": {
        "id": "OEIB_Ub5yxA9"
      },
      "execution_count": null,
      "outputs": []
    },
    {
      "cell_type": "markdown",
      "source": [
        "#import"
      ],
      "metadata": {
        "id": "kxTMx1rKzNdz"
      }
    },
    {
      "cell_type": "code",
      "source": [
        "#spark\n",
        "import findspark\n",
        "import pyspark\n",
        "from pyspark import SparkContext\n",
        "from pyspark.sql import SparkSession\n",
        "findspark.init()"
      ],
      "metadata": {
        "id": "TLc_jOz2zOjL"
      },
      "execution_count": null,
      "outputs": []
    },
    {
      "cell_type": "markdown",
      "source": [
        "#spark session"
      ],
      "metadata": {
        "id": "qyevzjhzzrT3"
      }
    },
    {
      "cell_type": "code",
      "source": [
        "#создаем спарк сессию\n",
        "spark = SparkSession.builder.config(\"spark.executor.memory\", \"8g\")\\\n",
        "                            .config(\"spark.executor.cores\", \"3\")\\\n",
        "                            .config(\"spark.cores.max\", \"3\")\\\n",
        "                            .config(\"spark.driver.memory\", \"8g\")\\\n",
        "                            .config(\"spark.dynamicAllocation.enabled\", \"True\").getOrCreate()"
      ],
      "metadata": {
        "id": "WBfzRjPczwgr"
      },
      "execution_count": null,
      "outputs": []
    },
    {
      "cell_type": "markdown",
      "source": [
        "#Зарузка данных"
      ],
      "metadata": {
        "id": "XM34msir1KC5"
      }
    },
    {
      "cell_type": "code",
      "source": [
        "!git clone https://github.com/Lasttrader/DA_repo"
      ],
      "metadata": {
        "colab": {
          "base_uri": "https://localhost:8080/"
        },
        "id": "SMOLw47O1L7B",
        "outputId": "f0c96331-4ca1-43e5-ebd6-aeab52a9bd0c"
      },
      "execution_count": null,
      "outputs": [
        {
          "output_type": "stream",
          "name": "stdout",
          "text": [
            "Cloning into 'DA_repo'...\n",
            "remote: Enumerating objects: 63, done.\u001b[K\n",
            "remote: Counting objects: 100% (5/5), done.\u001b[K\n",
            "remote: Compressing objects: 100% (5/5), done.\u001b[K\n",
            "remote: Total 63 (delta 1), reused 1 (delta 0), pack-reused 58\u001b[K\n",
            "Receiving objects: 100% (63/63), 31.42 MiB | 10.67 MiB/s, done.\n",
            "Resolving deltas: 100% (14/14), done.\n"
          ]
        }
      ]
    },
    {
      "cell_type": "code",
      "source": [
        "path = '/content/DA_repo/Gazprom_stocks/04_05.csv'"
      ],
      "metadata": {
        "id": "fm5NZ65x1ZSm"
      },
      "execution_count": null,
      "outputs": []
    },
    {
      "cell_type": "code",
      "source": [
        "#загружаем датасет\n",
        "data_spark = spark.read.csv(path, inferSchema = True, header = True, sep = ';')\n",
        "print(f'кол-во строк = {data_spark.count()}')\n",
        "print(f'кол-во столбцов = {len(data_spark.dtypes)}')\n",
        "data_spark.show(10)"
      ],
      "metadata": {
        "colab": {
          "base_uri": "https://localhost:8080/"
        },
        "id": "CodMGuKm1hw1",
        "outputId": "a71333d4-2f47-4d25-9747-263b23403b6c"
      },
      "execution_count": null,
      "outputs": [
        {
          "output_type": "stream",
          "name": "stdout",
          "text": [
            "кол-во строк = 246015\n",
            "кол-во столбцов = 7\n",
            "+----------+--------+------+------+------+------+------+\n",
            "|      DATE|    TIME|  OPEN|   MAX|   MIN| CLOSE|VOLUME|\n",
            "+----------+--------+------+------+------+------+------+\n",
            "|05.01.2004|10:30:00|681.05| 685.0|681.05| 684.0|  4833|\n",
            "|05.01.2004|10:31:00|684.79| 688.0|684.01| 686.0|  7025|\n",
            "|05.01.2004|10:32:00| 685.0| 688.0| 685.0|685.12|  3956|\n",
            "|05.01.2004|10:33:00|686.98| 687.0|686.02|686.02|  1105|\n",
            "|05.01.2004|10:34:00| 687.0|688.68| 687.0| 688.0|  6270|\n",
            "|05.01.2004|10:35:00| 688.5| 688.5|687.02| 687.9|   576|\n",
            "|05.01.2004|10:36:00| 687.1| 687.1| 687.0| 687.0|  3330|\n",
            "|05.01.2004|10:37:00|686.99|686.99| 686.0| 686.0|  2679|\n",
            "|05.01.2004|10:38:00| 686.0| 686.5| 686.0| 686.0|  6227|\n",
            "|05.01.2004|10:39:00| 686.5| 686.5| 686.0| 686.0|  1350|\n",
            "+----------+--------+------+------+------+------+------+\n",
            "only showing top 10 rows\n",
            "\n"
          ]
        }
      ]
    },
    {
      "cell_type": "code",
      "source": [
        "#кол-во строк в датасете\n",
        "data_spark.count()"
      ],
      "metadata": {
        "colab": {
          "base_uri": "https://localhost:8080/"
        },
        "id": "OuV68SjI2F4K",
        "outputId": "b4f7feb0-e2df-48dc-e660-116d33addb23"
      },
      "execution_count": null,
      "outputs": [
        {
          "output_type": "execute_result",
          "data": {
            "text/plain": [
              "246015"
            ]
          },
          "metadata": {},
          "execution_count": 15
        }
      ]
    },
    {
      "cell_type": "code",
      "source": [
        "#кол-востолбцов\n",
        "len(data_spark.dtypes)"
      ],
      "metadata": {
        "colab": {
          "base_uri": "https://localhost:8080/"
        },
        "id": "R2VF4UO22Lc6",
        "outputId": "8aad0f00-e20c-4586-935a-bac2d84c123d"
      },
      "execution_count": null,
      "outputs": [
        {
          "output_type": "execute_result",
          "data": {
            "text/plain": [
              "7"
            ]
          },
          "metadata": {},
          "execution_count": 19
        }
      ]
    },
    {
      "cell_type": "code",
      "source": [
        "print(f'кол-во строк = {data_spark.count()}')\n",
        "print(f'кол-во столбцов = {len(data_spark.dtypes)}')"
      ],
      "metadata": {
        "colab": {
          "base_uri": "https://localhost:8080/"
        },
        "id": "fQhA4yGr2cqh",
        "outputId": "a828d35a-28e8-4247-cc79-06b243214dc7"
      },
      "execution_count": null,
      "outputs": [
        {
          "output_type": "stream",
          "name": "stdout",
          "text": [
            "кол-во строк = 246015\n",
            "кол-во столбцов = 7\n"
          ]
        }
      ]
    },
    {
      "cell_type": "markdown",
      "source": [
        "#Spark & SQL"
      ],
      "metadata": {
        "id": "7_d8xjv221t_"
      }
    },
    {
      "cell_type": "code",
      "source": [
        "data_spark.registerTempTable(\"my_temp_sql_table\") #временная таблица\n",
        "#sql\n",
        "query_data_spark = spark.sql(''' SELECT OPEN , MAX\n",
        "                                  FROM my_temp_sql_table\n",
        "                                  WHERE MAX = 688.0\n",
        "                             ''')\n",
        "query_data_spark.show(10)"
      ],
      "metadata": {
        "colab": {
          "base_uri": "https://localhost:8080/"
        },
        "id": "GeiEouZv24Td",
        "outputId": "69963fbb-3c21-4e06-b9da-3e090bfa7c4f"
      },
      "execution_count": null,
      "outputs": [
        {
          "output_type": "stream",
          "name": "stderr",
          "text": [
            "/usr/local/lib/python3.10/dist-packages/pyspark/sql/dataframe.py:138: FutureWarning: Deprecated in 2.0, use createOrReplaceTempView instead.\n",
            "  warnings.warn(\n"
          ]
        },
        {
          "output_type": "stream",
          "name": "stdout",
          "text": [
            "+------+-----+\n",
            "|  OPEN|  MAX|\n",
            "+------+-----+\n",
            "|684.79|688.0|\n",
            "| 685.0|688.0|\n",
            "| 687.9|688.0|\n",
            "|687.23|688.0|\n",
            "| 687.9|688.0|\n",
            "| 687.0|688.0|\n",
            "| 687.4|688.0|\n",
            "| 688.0|688.0|\n",
            "| 687.8|688.0|\n",
            "| 685.1|688.0|\n",
            "+------+-----+\n",
            "only showing top 10 rows\n",
            "\n"
          ]
        }
      ]
    },
    {
      "cell_type": "code",
      "source": [
        "values_list = [687.9, 687.8, 685.1]\n",
        "#sql\n",
        "query_data_spark = spark.sql(f''' SELECT OPEN, MAX, MIN,CLOSE, VOLUME\n",
        "                                  FROM my_temp_sql_table\n",
        "                                  WHERE OPEN IN {tuple(values_list)}\n",
        "                             ''')\n",
        "query_data_spark.show(10)"
      ],
      "metadata": {
        "colab": {
          "base_uri": "https://localhost:8080/"
        },
        "id": "7dcd3gI-3pkU",
        "outputId": "a95c5ae2-59ae-42c9-d6b5-85665bd60a26"
      },
      "execution_count": null,
      "outputs": [
        {
          "output_type": "stream",
          "name": "stdout",
          "text": [
            "+-----+------+------+------+------+\n",
            "| OPEN|   MAX|   MIN| CLOSE|VOLUME|\n",
            "+-----+------+------+------+------+\n",
            "|687.9| 687.9| 687.5| 687.5|  1018|\n",
            "|687.9| 688.0| 687.9|687.99|    97|\n",
            "|687.9| 688.0| 687.9| 687.9|  1631|\n",
            "|687.9| 687.9|687.01| 687.7|  5894|\n",
            "|687.8| 688.0| 686.5| 687.1|  6525|\n",
            "|685.1| 688.0|685.01| 687.5| 16304|\n",
            "|687.8|687.93| 687.8|687.93|  1645|\n",
            "+-----+------+------+------+------+\n",
            "\n"
          ]
        }
      ]
    },
    {
      "cell_type": "markdown",
      "source": [
        "#Spark to pandas"
      ],
      "metadata": {
        "id": "-24Sam_56xn2"
      }
    },
    {
      "cell_type": "code",
      "source": [
        "my_df_pandas = query_data_spark.toPandas()\n",
        "my_df_pandas.head() #pandas датафрейм"
      ],
      "metadata": {
        "colab": {
          "base_uri": "https://localhost:8080/",
          "height": 206
        },
        "id": "NpJUrR9L60Sh",
        "outputId": "22c428b5-6cff-4c69-b922-6c79c8c4dcb5"
      },
      "execution_count": null,
      "outputs": [
        {
          "output_type": "execute_result",
          "data": {
            "text/plain": [
              "    OPEN    MAX     MIN   CLOSE  VOLUME\n",
              "0  687.9  687.9  687.50  687.50    1018\n",
              "1  687.9  688.0  687.90  687.99      97\n",
              "2  687.9  688.0  687.90  687.90    1631\n",
              "3  687.9  687.9  687.01  687.70    5894\n",
              "4  687.8  688.0  686.50  687.10    6525"
            ],
            "text/html": [
              "\n",
              "  <div id=\"df-d7ded10c-da17-4d5f-90ea-b256c75dca04\" class=\"colab-df-container\">\n",
              "    <div>\n",
              "<style scoped>\n",
              "    .dataframe tbody tr th:only-of-type {\n",
              "        vertical-align: middle;\n",
              "    }\n",
              "\n",
              "    .dataframe tbody tr th {\n",
              "        vertical-align: top;\n",
              "    }\n",
              "\n",
              "    .dataframe thead th {\n",
              "        text-align: right;\n",
              "    }\n",
              "</style>\n",
              "<table border=\"1\" class=\"dataframe\">\n",
              "  <thead>\n",
              "    <tr style=\"text-align: right;\">\n",
              "      <th></th>\n",
              "      <th>OPEN</th>\n",
              "      <th>MAX</th>\n",
              "      <th>MIN</th>\n",
              "      <th>CLOSE</th>\n",
              "      <th>VOLUME</th>\n",
              "    </tr>\n",
              "  </thead>\n",
              "  <tbody>\n",
              "    <tr>\n",
              "      <th>0</th>\n",
              "      <td>687.9</td>\n",
              "      <td>687.9</td>\n",
              "      <td>687.50</td>\n",
              "      <td>687.50</td>\n",
              "      <td>1018</td>\n",
              "    </tr>\n",
              "    <tr>\n",
              "      <th>1</th>\n",
              "      <td>687.9</td>\n",
              "      <td>688.0</td>\n",
              "      <td>687.90</td>\n",
              "      <td>687.99</td>\n",
              "      <td>97</td>\n",
              "    </tr>\n",
              "    <tr>\n",
              "      <th>2</th>\n",
              "      <td>687.9</td>\n",
              "      <td>688.0</td>\n",
              "      <td>687.90</td>\n",
              "      <td>687.90</td>\n",
              "      <td>1631</td>\n",
              "    </tr>\n",
              "    <tr>\n",
              "      <th>3</th>\n",
              "      <td>687.9</td>\n",
              "      <td>687.9</td>\n",
              "      <td>687.01</td>\n",
              "      <td>687.70</td>\n",
              "      <td>5894</td>\n",
              "    </tr>\n",
              "    <tr>\n",
              "      <th>4</th>\n",
              "      <td>687.8</td>\n",
              "      <td>688.0</td>\n",
              "      <td>686.50</td>\n",
              "      <td>687.10</td>\n",
              "      <td>6525</td>\n",
              "    </tr>\n",
              "  </tbody>\n",
              "</table>\n",
              "</div>\n",
              "    <div class=\"colab-df-buttons\">\n",
              "\n",
              "  <div class=\"colab-df-container\">\n",
              "    <button class=\"colab-df-convert\" onclick=\"convertToInteractive('df-d7ded10c-da17-4d5f-90ea-b256c75dca04')\"\n",
              "            title=\"Convert this dataframe to an interactive table.\"\n",
              "            style=\"display:none;\">\n",
              "\n",
              "  <svg xmlns=\"http://www.w3.org/2000/svg\" height=\"24px\" viewBox=\"0 -960 960 960\">\n",
              "    <path d=\"M120-120v-720h720v720H120Zm60-500h600v-160H180v160Zm220 220h160v-160H400v160Zm0 220h160v-160H400v160ZM180-400h160v-160H180v160Zm440 0h160v-160H620v160ZM180-180h160v-160H180v160Zm440 0h160v-160H620v160Z\"/>\n",
              "  </svg>\n",
              "    </button>\n",
              "\n",
              "  <style>\n",
              "    .colab-df-container {\n",
              "      display:flex;\n",
              "      gap: 12px;\n",
              "    }\n",
              "\n",
              "    .colab-df-convert {\n",
              "      background-color: #E8F0FE;\n",
              "      border: none;\n",
              "      border-radius: 50%;\n",
              "      cursor: pointer;\n",
              "      display: none;\n",
              "      fill: #1967D2;\n",
              "      height: 32px;\n",
              "      padding: 0 0 0 0;\n",
              "      width: 32px;\n",
              "    }\n",
              "\n",
              "    .colab-df-convert:hover {\n",
              "      background-color: #E2EBFA;\n",
              "      box-shadow: 0px 1px 2px rgba(60, 64, 67, 0.3), 0px 1px 3px 1px rgba(60, 64, 67, 0.15);\n",
              "      fill: #174EA6;\n",
              "    }\n",
              "\n",
              "    .colab-df-buttons div {\n",
              "      margin-bottom: 4px;\n",
              "    }\n",
              "\n",
              "    [theme=dark] .colab-df-convert {\n",
              "      background-color: #3B4455;\n",
              "      fill: #D2E3FC;\n",
              "    }\n",
              "\n",
              "    [theme=dark] .colab-df-convert:hover {\n",
              "      background-color: #434B5C;\n",
              "      box-shadow: 0px 1px 3px 1px rgba(0, 0, 0, 0.15);\n",
              "      filter: drop-shadow(0px 1px 2px rgba(0, 0, 0, 0.3));\n",
              "      fill: #FFFFFF;\n",
              "    }\n",
              "  </style>\n",
              "\n",
              "    <script>\n",
              "      const buttonEl =\n",
              "        document.querySelector('#df-d7ded10c-da17-4d5f-90ea-b256c75dca04 button.colab-df-convert');\n",
              "      buttonEl.style.display =\n",
              "        google.colab.kernel.accessAllowed ? 'block' : 'none';\n",
              "\n",
              "      async function convertToInteractive(key) {\n",
              "        const element = document.querySelector('#df-d7ded10c-da17-4d5f-90ea-b256c75dca04');\n",
              "        const dataTable =\n",
              "          await google.colab.kernel.invokeFunction('convertToInteractive',\n",
              "                                                    [key], {});\n",
              "        if (!dataTable) return;\n",
              "\n",
              "        const docLinkHtml = 'Like what you see? Visit the ' +\n",
              "          '<a target=\"_blank\" href=https://colab.research.google.com/notebooks/data_table.ipynb>data table notebook</a>'\n",
              "          + ' to learn more about interactive tables.';\n",
              "        element.innerHTML = '';\n",
              "        dataTable['output_type'] = 'display_data';\n",
              "        await google.colab.output.renderOutput(dataTable, element);\n",
              "        const docLink = document.createElement('div');\n",
              "        docLink.innerHTML = docLinkHtml;\n",
              "        element.appendChild(docLink);\n",
              "      }\n",
              "    </script>\n",
              "  </div>\n",
              "\n",
              "\n",
              "<div id=\"df-a1cb392b-31e7-4d8b-a470-73773187d721\">\n",
              "  <button class=\"colab-df-quickchart\" onclick=\"quickchart('df-a1cb392b-31e7-4d8b-a470-73773187d721')\"\n",
              "            title=\"Suggest charts\"\n",
              "            style=\"display:none;\">\n",
              "\n",
              "<svg xmlns=\"http://www.w3.org/2000/svg\" height=\"24px\"viewBox=\"0 0 24 24\"\n",
              "     width=\"24px\">\n",
              "    <g>\n",
              "        <path d=\"M19 3H5c-1.1 0-2 .9-2 2v14c0 1.1.9 2 2 2h14c1.1 0 2-.9 2-2V5c0-1.1-.9-2-2-2zM9 17H7v-7h2v7zm4 0h-2V7h2v10zm4 0h-2v-4h2v4z\"/>\n",
              "    </g>\n",
              "</svg>\n",
              "  </button>\n",
              "\n",
              "<style>\n",
              "  .colab-df-quickchart {\n",
              "      --bg-color: #E8F0FE;\n",
              "      --fill-color: #1967D2;\n",
              "      --hover-bg-color: #E2EBFA;\n",
              "      --hover-fill-color: #174EA6;\n",
              "      --disabled-fill-color: #AAA;\n",
              "      --disabled-bg-color: #DDD;\n",
              "  }\n",
              "\n",
              "  [theme=dark] .colab-df-quickchart {\n",
              "      --bg-color: #3B4455;\n",
              "      --fill-color: #D2E3FC;\n",
              "      --hover-bg-color: #434B5C;\n",
              "      --hover-fill-color: #FFFFFF;\n",
              "      --disabled-bg-color: #3B4455;\n",
              "      --disabled-fill-color: #666;\n",
              "  }\n",
              "\n",
              "  .colab-df-quickchart {\n",
              "    background-color: var(--bg-color);\n",
              "    border: none;\n",
              "    border-radius: 50%;\n",
              "    cursor: pointer;\n",
              "    display: none;\n",
              "    fill: var(--fill-color);\n",
              "    height: 32px;\n",
              "    padding: 0;\n",
              "    width: 32px;\n",
              "  }\n",
              "\n",
              "  .colab-df-quickchart:hover {\n",
              "    background-color: var(--hover-bg-color);\n",
              "    box-shadow: 0 1px 2px rgba(60, 64, 67, 0.3), 0 1px 3px 1px rgba(60, 64, 67, 0.15);\n",
              "    fill: var(--button-hover-fill-color);\n",
              "  }\n",
              "\n",
              "  .colab-df-quickchart-complete:disabled,\n",
              "  .colab-df-quickchart-complete:disabled:hover {\n",
              "    background-color: var(--disabled-bg-color);\n",
              "    fill: var(--disabled-fill-color);\n",
              "    box-shadow: none;\n",
              "  }\n",
              "\n",
              "  .colab-df-spinner {\n",
              "    border: 2px solid var(--fill-color);\n",
              "    border-color: transparent;\n",
              "    border-bottom-color: var(--fill-color);\n",
              "    animation:\n",
              "      spin 1s steps(1) infinite;\n",
              "  }\n",
              "\n",
              "  @keyframes spin {\n",
              "    0% {\n",
              "      border-color: transparent;\n",
              "      border-bottom-color: var(--fill-color);\n",
              "      border-left-color: var(--fill-color);\n",
              "    }\n",
              "    20% {\n",
              "      border-color: transparent;\n",
              "      border-left-color: var(--fill-color);\n",
              "      border-top-color: var(--fill-color);\n",
              "    }\n",
              "    30% {\n",
              "      border-color: transparent;\n",
              "      border-left-color: var(--fill-color);\n",
              "      border-top-color: var(--fill-color);\n",
              "      border-right-color: var(--fill-color);\n",
              "    }\n",
              "    40% {\n",
              "      border-color: transparent;\n",
              "      border-right-color: var(--fill-color);\n",
              "      border-top-color: var(--fill-color);\n",
              "    }\n",
              "    60% {\n",
              "      border-color: transparent;\n",
              "      border-right-color: var(--fill-color);\n",
              "    }\n",
              "    80% {\n",
              "      border-color: transparent;\n",
              "      border-right-color: var(--fill-color);\n",
              "      border-bottom-color: var(--fill-color);\n",
              "    }\n",
              "    90% {\n",
              "      border-color: transparent;\n",
              "      border-bottom-color: var(--fill-color);\n",
              "    }\n",
              "  }\n",
              "</style>\n",
              "\n",
              "  <script>\n",
              "    async function quickchart(key) {\n",
              "      const quickchartButtonEl =\n",
              "        document.querySelector('#' + key + ' button');\n",
              "      quickchartButtonEl.disabled = true;  // To prevent multiple clicks.\n",
              "      quickchartButtonEl.classList.add('colab-df-spinner');\n",
              "      try {\n",
              "        const charts = await google.colab.kernel.invokeFunction(\n",
              "            'suggestCharts', [key], {});\n",
              "      } catch (error) {\n",
              "        console.error('Error during call to suggestCharts:', error);\n",
              "      }\n",
              "      quickchartButtonEl.classList.remove('colab-df-spinner');\n",
              "      quickchartButtonEl.classList.add('colab-df-quickchart-complete');\n",
              "    }\n",
              "    (() => {\n",
              "      let quickchartButtonEl =\n",
              "        document.querySelector('#df-a1cb392b-31e7-4d8b-a470-73773187d721 button');\n",
              "      quickchartButtonEl.style.display =\n",
              "        google.colab.kernel.accessAllowed ? 'block' : 'none';\n",
              "    })();\n",
              "  </script>\n",
              "</div>\n",
              "    </div>\n",
              "  </div>\n"
            ]
          },
          "metadata": {},
          "execution_count": 26
        }
      ]
    },
    {
      "cell_type": "markdown",
      "source": [
        "#Spark ML"
      ],
      "metadata": {
        "id": "RyWL4g747QOs"
      }
    },
    {
      "cell_type": "code",
      "source": [
        "#особенности spark\n",
        "1. обычный Х = my_df_pandas.drop('y', axis =1)\n",
        "2. spark отдельная колонка вида X = [687.9,\t687.9,\t687.50,\t687.50,\t1018]"
      ],
      "metadata": {
        "id": "Mw2uASNU7cCU"
      },
      "execution_count": null,
      "outputs": []
    },
    {
      "cell_type": "code",
      "source": [
        "from pyspark.ml.linalg import Vectors #для работыс признаками\n",
        "from pyspark.ml.feature import MinMaxScaler, VectorAssembler #для масштабирования данных\n",
        "from pyspark.ml.regression import LinearRegression, LinearRegressionModel\n",
        "from pyspark.ml import Pipeline"
      ],
      "metadata": {
        "id": "MIEWKP3r7CaO"
      },
      "execution_count": null,
      "outputs": []
    },
    {
      "cell_type": "markdown",
      "source": [
        "#подготовка признаков"
      ],
      "metadata": {
        "id": "ZFsHnHfZ8Fc9"
      }
    },
    {
      "cell_type": "code",
      "source": [
        "#объединение колонок в один веткор\n",
        "assembler = VectorAssembler(inputCols = ['OPEN','MAX', 'MIN', 'VOLUME'],\n",
        "                            outputCol='vector_cols')\n",
        "#minmaxscaler\n",
        "scaler = MinMaxScaler(inputCol='vector_cols',\n",
        "                      outputCol='vector_cols_scaled') #масштабирвоание\n",
        "#pipeline\n",
        "pipeline = Pipeline(stages = [assembler, scaler]) #параметры и шаги пайплайны\n",
        "pipe_fit = pipeline.fit(data_spark)#обучение\n",
        "dataset = pipe_fit.transform(data_spark) #добавялем к датасету новые колонки после пайпайна\n",
        "dataset.show()"
      ],
      "metadata": {
        "colab": {
          "base_uri": "https://localhost:8080/"
        },
        "id": "LcumHJPq8HOV",
        "outputId": "e2c75591-79e2-476b-c0df-1a5220cdd01b"
      },
      "execution_count": null,
      "outputs": [
        {
          "output_type": "stream",
          "name": "stdout",
          "text": [
            "+----------+--------+------+------+------+------+------+--------------------+--------------------+\n",
            "|      DATE|    TIME|  OPEN|   MAX|   MIN| CLOSE|VOLUME|         vector_cols|  vector_cols_scaled|\n",
            "+----------+--------+------+------+------+------+------+--------------------+--------------------+\n",
            "|05.01.2004|10:30:00|681.05| 685.0|681.05| 684.0|  4833|[681.05,685.0,681...|[0.0,4.5850947739...|\n",
            "|05.01.2004|10:31:00|684.79| 688.0|684.01| 686.0|  7025|[684.79,688.0,684...|[0.00342493978882...|\n",
            "|05.01.2004|10:32:00| 685.0| 688.0| 685.0|685.12|  3956|[685.0,688.0,685....|[0.00361724924220...|\n",
            "|05.01.2004|10:33:00|686.98| 687.0|686.02|686.02|  1105|[686.98,687.0,686...|[0.00543045265982...|\n",
            "|05.01.2004|10:34:00| 687.0|688.68| 687.0| 688.0|  6270|[687.0,688.68,687...|[0.00544876784585...|\n",
            "|05.01.2004|10:35:00| 688.5| 688.5|687.02| 687.9|   576|[688.5,688.5,687....|[0.00682240679859...|\n",
            "|05.01.2004|10:36:00| 687.1| 687.1| 687.0| 687.0|  3330|[687.1,687.1,687....|[0.00554034377604...|\n",
            "|05.01.2004|10:37:00|686.99|686.99| 686.0| 686.0|  2679|[686.99,686.99,68...|[0.00543961025284...|\n",
            "|05.01.2004|10:38:00| 686.0| 686.5| 686.0| 686.0|  6227|[686.0,686.5,686....|[0.00453300854403...|\n",
            "|05.01.2004|10:39:00| 686.5| 686.5| 686.0| 686.0|  1350|[686.5,686.5,686....|[0.00499088819494...|\n",
            "|05.01.2004|10:40:00| 686.0| 686.5| 686.0|686.01|  1142|[686.0,686.5,686....|[0.00453300854403...|\n",
            "|05.01.2004|10:41:00| 686.8| 686.8|685.53|685.53|  5870|[686.8,686.8,685....|[0.00526561598549...|\n",
            "|05.01.2004|10:42:00|685.53|685.53| 684.0| 684.0| 13726|[685.53,685.53,68...|[0.00410260167217...|\n",
            "|05.01.2004|10:43:00|684.99|685.48| 684.2| 685.0|  4504|[684.99,685.48,68...|[0.00360809164919...|\n",
            "|05.01.2004|10:44:00|684.24| 686.5| 684.2|684.53|  5160|[684.24,686.5,684...|[0.00292127217282...|\n",
            "|05.01.2004|10:45:00|684.53| 685.0| 684.5| 685.0|   620|[684.53,685.0,684...|[0.00318684237035...|\n",
            "|05.01.2004|10:46:00|685.98|686.49|685.98| 686.0|  1533|[685.98,686.49,68...|[0.00451469335799...|\n",
            "|05.01.2004|10:47:00|686.38|686.47| 686.0| 686.0|  1850|[686.38,686.47,68...|[0.00488099707872...|\n",
            "|05.01.2004|10:48:00| 686.0| 686.9| 686.0| 686.9|  1446|[686.0,686.9,686....|[0.00453300854403...|\n",
            "|05.01.2004|10:49:00|686.88|686.89| 686.0| 686.0|  6727|[686.88,686.89,68...|[0.00533887672964...|\n",
            "+----------+--------+------+------+------+------+------+--------------------+--------------------+\n",
            "only showing top 20 rows\n",
            "\n"
          ]
        }
      ]
    },
    {
      "cell_type": "markdown",
      "source": [
        "#X,y"
      ],
      "metadata": {
        "id": "PdUjV_Uv9yee"
      }
    },
    {
      "cell_type": "code",
      "source": [
        "dataset_lr = dataset.select(['vector_cols_scaled', 'CLOSE'])\n",
        "dataset_lr.show()"
      ],
      "metadata": {
        "colab": {
          "base_uri": "https://localhost:8080/"
        },
        "id": "MvLTJkXv9zty",
        "outputId": "7db005f6-ebb8-4f1b-a10a-56d710e336e6"
      },
      "execution_count": null,
      "outputs": [
        {
          "output_type": "stream",
          "name": "stdout",
          "text": [
            "+--------------------+------+\n",
            "|  vector_cols_scaled| CLOSE|\n",
            "+--------------------+------+\n",
            "|[0.0,4.5850947739...| 684.0|\n",
            "|[0.00342493978882...| 686.0|\n",
            "|[0.00361724924220...|685.12|\n",
            "|[0.00543045265982...|686.02|\n",
            "|[0.00544876784585...| 688.0|\n",
            "|[0.00682240679859...| 687.9|\n",
            "|[0.00554034377604...| 687.0|\n",
            "|[0.00543961025284...| 686.0|\n",
            "|[0.00453300854403...| 686.0|\n",
            "|[0.00499088819494...| 686.0|\n",
            "|[0.00453300854403...|686.01|\n",
            "|[0.00526561598549...|685.53|\n",
            "|[0.00410260167217...| 684.0|\n",
            "|[0.00360809164919...| 685.0|\n",
            "|[0.00292127217282...|684.53|\n",
            "|[0.00318684237035...| 685.0|\n",
            "|[0.00451469335799...| 686.0|\n",
            "|[0.00488099707872...| 686.0|\n",
            "|[0.00453300854403...| 686.9|\n",
            "|[0.00533887672964...| 686.0|\n",
            "+--------------------+------+\n",
            "only showing top 20 rows\n",
            "\n"
          ]
        }
      ]
    },
    {
      "cell_type": "markdown",
      "source": [
        "#train_test_split"
      ],
      "metadata": {
        "id": "veBI26DK-H_4"
      }
    },
    {
      "cell_type": "code",
      "source": [
        "split = dataset_lr.randomSplit([0.8, 0.2]) #ошибка, т.к. нельзя перемешивать временной ряд\n",
        "train_data = split[0]\n",
        "test_data = split[1]\n"
      ],
      "metadata": {
        "id": "SgGZ8FGi-J3y"
      },
      "execution_count": null,
      "outputs": []
    },
    {
      "cell_type": "code",
      "source": [
        "train_data.show(5)"
      ],
      "metadata": {
        "colab": {
          "base_uri": "https://localhost:8080/"
        },
        "id": "WLB3eNSC-qZP",
        "outputId": "00b446f2-848f-41d4-deca-53819081dc27"
      },
      "execution_count": null,
      "outputs": [
        {
          "output_type": "stream",
          "name": "stdout",
          "text": [
            "+--------------------+------+\n",
            "|  vector_cols_scaled| CLOSE|\n",
            "+--------------------+------+\n",
            "|[0.0,4.5850947739...| 684.0|\n",
            "|[0.00271064753340...| 684.9|\n",
            "|[0.00292127217282...|684.53|\n",
            "|[0.00318684237035...| 685.0|\n",
            "|[0.00342493978882...| 686.0|\n",
            "+--------------------+------+\n",
            "only showing top 5 rows\n",
            "\n"
          ]
        }
      ]
    },
    {
      "cell_type": "code",
      "source": [
        "test_data.show(5)"
      ],
      "metadata": {
        "colab": {
          "base_uri": "https://localhost:8080/"
        },
        "id": "auVQH2DW-seI",
        "outputId": "8133dcab-a7fe-4459-e73e-59f74bec6296"
      },
      "execution_count": null,
      "outputs": [
        {
          "output_type": "stream",
          "name": "stdout",
          "text": [
            "+--------------------+------+\n",
            "|  vector_cols_scaled| CLOSE|\n",
            "+--------------------+------+\n",
            "|[0.00279306587056...| 684.5|\n",
            "|[0.00280222346358...| 684.0|\n",
            "|[0.00315936959129...| 685.0|\n",
            "|[0.00363556442824...|685.02|\n",
            "|[0.00371798276540...| 685.9|\n",
            "+--------------------+------+\n",
            "only showing top 5 rows\n",
            "\n"
          ]
        }
      ]
    },
    {
      "cell_type": "markdown",
      "source": [
        "#ML"
      ],
      "metadata": {
        "id": "jRzimra--zzI"
      }
    },
    {
      "cell_type": "code",
      "source": [
        "#linear regression\n",
        "lr = LinearRegression(featuresCol='vector_cols_scaled',\n",
        "                      labelCol='CLOSE')\n",
        "model_lr = lr.fit(train_data)"
      ],
      "metadata": {
        "id": "e4ZUAeXu-1jm"
      },
      "execution_count": null,
      "outputs": []
    },
    {
      "cell_type": "markdown",
      "source": [
        "#predict"
      ],
      "metadata": {
        "id": "WvtQKH7S_Hza"
      }
    },
    {
      "cell_type": "code",
      "source": [
        "predicttion_df = model_lr.transform(test_data)"
      ],
      "metadata": {
        "id": "VbKo8zxs_JWA"
      },
      "execution_count": null,
      "outputs": []
    },
    {
      "cell_type": "code",
      "source": [
        "predicttion_df.show(5)"
      ],
      "metadata": {
        "colab": {
          "base_uri": "https://localhost:8080/"
        },
        "id": "A0VrVdzE_TQJ",
        "outputId": "f0fd872d-a1bf-41d8-c3a2-6f67dd00fc57"
      },
      "execution_count": null,
      "outputs": [
        {
          "output_type": "stream",
          "name": "stdout",
          "text": [
            "+--------------------+------+-----------------+\n",
            "|  vector_cols_scaled| CLOSE|       prediction|\n",
            "+--------------------+------+-----------------+\n",
            "|[0.00279306587056...| 684.5|683.7315749219374|\n",
            "|[0.00280222346358...| 684.0|684.6255383018158|\n",
            "|[0.00315936959129...| 685.0|684.8762369136288|\n",
            "|[0.00363556442824...|685.02|685.0143478709875|\n",
            "|[0.00371798276540...| 685.9|685.6996309926292|\n",
            "+--------------------+------+-----------------+\n",
            "only showing top 5 rows\n",
            "\n"
          ]
        }
      ]
    },
    {
      "cell_type": "markdown",
      "source": [
        "#metrics"
      ],
      "metadata": {
        "id": "y5bKI8fX_mhD"
      }
    },
    {
      "cell_type": "code",
      "source": [
        "summaryMetrics = model_lr.summary"
      ],
      "metadata": {
        "id": "5n7fxEwZ_tdO"
      },
      "execution_count": null,
      "outputs": []
    },
    {
      "cell_type": "code",
      "source": [
        "print(f'RMSE = {summaryMetrics.rootMeanSquaredError}')\n",
        "print(f'r2 = {summaryMetrics.r2}')"
      ],
      "metadata": {
        "colab": {
          "base_uri": "https://localhost:8080/"
        },
        "id": "45_JbrAK_2kp",
        "outputId": "69b434bc-f99e-40b3-e55e-6589668f8125"
      },
      "execution_count": null,
      "outputs": [
        {
          "output_type": "stream",
          "name": "stdout",
          "text": [
            "RMSE = 0.4142005095519733\n",
            "r2 = 0.9999979990807122\n"
          ]
        }
      ]
    },
    {
      "cell_type": "markdown",
      "source": [
        "#spark pipeline, preprocessing + ML"
      ],
      "metadata": {
        "id": "FTZGcLunAScL"
      }
    },
    {
      "cell_type": "code",
      "source": [
        "#объединение колонок в один веткор\n",
        "assembler = VectorAssembler(inputCols = ['OPEN','MAX', 'MIN', 'VOLUME'],\n",
        "                            outputCol='vector_cols')\n",
        "#minmaxscaler\n",
        "scaler = MinMaxScaler(inputCol='vector_cols',\n",
        "                      outputCol='vector_cols_scaled') #масштабирвоание\n",
        "#pipeline\n",
        "pipeline = Pipeline(stages = [assembler, scaler, lr]) #параметры и шаги пайплайны\n",
        "pipe_fit = pipeline.fit(data_spark)#обучение\n",
        "dataset = pipe_fit.transform(data_spark) #добавялем к датасету новые колонки после пайпайна\n",
        "dataset.show()"
      ],
      "metadata": {
        "colab": {
          "base_uri": "https://localhost:8080/"
        },
        "id": "GRPSXQ35AYDz",
        "outputId": "0b4cfabe-5464-457a-f5f4-9c638b352cf1"
      },
      "execution_count": null,
      "outputs": [
        {
          "output_type": "stream",
          "name": "stdout",
          "text": [
            "+----------+--------+------+------+------+------+------+--------------------+--------------------+-----------------+\n",
            "|      DATE|    TIME|  OPEN|   MAX|   MIN| CLOSE|VOLUME|         vector_cols|  vector_cols_scaled|       prediction|\n",
            "+----------+--------+------+------+------+------+------+--------------------+--------------------+-----------------+\n",
            "|05.01.2004|10:30:00|681.05| 685.0|681.05| 684.0|  4833|[681.05,685.0,681...|[0.0,4.5850947739...|684.0651247265401|\n",
            "|05.01.2004|10:31:00|684.79| 688.0|684.01| 686.0|  7025|[684.79,688.0,684...|[0.00342493978882...|686.6577191094937|\n",
            "|05.01.2004|10:32:00| 685.0| 688.0| 685.0|685.12|  3956|[685.0,688.0,685....|[0.00361724924220...|687.2885893399935|\n",
            "|05.01.2004|10:33:00|686.98| 687.0|686.02|686.02|  1105|[686.98,687.0,686...|[0.00543045265982...|686.2743311665555|\n",
            "|05.01.2004|10:34:00| 687.0|688.68| 687.0| 688.0|  6270|[687.0,688.68,687...|[0.00544876784585...|688.2788853698247|\n",
            "|05.01.2004|10:35:00| 688.5| 688.5|687.02| 687.9|   576|[688.5,688.5,687....|[0.00682240679859...|687.3915468130159|\n",
            "|05.01.2004|10:36:00| 687.1| 687.1| 687.0| 687.0|  3330|[687.1,687.1,687....|[0.00554034377604...|687.0197464654929|\n",
            "|05.01.2004|10:37:00|686.99|686.99| 686.0| 686.0|  2679|[686.99,686.99,68...|[0.00543961025284...| 686.246566353306|\n",
            "|05.01.2004|10:38:00| 686.0| 686.5| 686.0| 686.0|  6227|[686.0,686.5,686....|[0.00453300854403...|686.3764641370149|\n",
            "|05.01.2004|10:39:00| 686.5| 686.5| 686.0| 686.0|  1350|[686.5,686.5,686....|[0.00499088819494...|686.1218173488331|\n",
            "|05.01.2004|10:40:00| 686.0| 686.5| 686.0|686.01|  1142|[686.0,686.5,686....|[0.00453300854403...|686.3768294240232|\n",
            "|05.01.2004|10:41:00| 686.8| 686.8|685.53|685.53|  5870|[686.8,686.8,685....|[0.00526561598549...|685.8476837755483|\n",
            "|05.01.2004|10:42:00|685.53|685.53| 684.0| 684.0| 13726|[685.53,685.53,68...|[0.00410260167217...|684.3833860673177|\n",
            "|05.01.2004|10:43:00|684.99|685.48| 684.2| 685.0|  4504|[684.99,685.48,68...|[0.00360809164919...|684.7702466124854|\n",
            "|05.01.2004|10:44:00|684.24| 686.5| 684.2|684.53|  5160|[684.24,686.5,684...|[0.00292127217282...|685.9327696749235|\n",
            "|05.01.2004|10:45:00|684.53| 685.0| 684.5| 685.0|   620|[684.53,685.0,684...|[0.00318684237035...|684.8615892806272|\n",
            "|05.01.2004|10:46:00|685.98|686.49|685.98| 686.0|  1533|[685.98,686.49,68...|[0.00451469335799...|686.3644494209782|\n",
            "|05.01.2004|10:47:00|686.38|686.47| 686.0| 686.0|  1850|[686.38,686.47,68...|[0.00488099707872...| 686.160037375456|\n",
            "|05.01.2004|10:48:00| 686.0| 686.9| 686.0| 686.9|  1446|[686.0,686.9,686....|[0.00453300854403...| 686.682719149384|\n",
            "|05.01.2004|10:49:00|686.88|686.89| 686.0| 686.0|  6727|[686.88,686.89,68...|[0.00533887672964...|686.2258970388506|\n",
            "+----------+--------+------+------+------+------+------+--------------------+--------------------+-----------------+\n",
            "only showing top 20 rows\n",
            "\n"
          ]
        }
      ]
    },
    {
      "cell_type": "markdown",
      "source": [
        "#model save & load"
      ],
      "metadata": {
        "id": "6wCCcxlqAnhk"
      }
    },
    {
      "cell_type": "code",
      "source": [
        "#save\n",
        "model_lr.save('/content/spark_models/spark_lr.model')"
      ],
      "metadata": {
        "id": "sgfwNJZvAq0s"
      },
      "execution_count": null,
      "outputs": []
    },
    {
      "cell_type": "code",
      "source": [
        "#load model\n",
        "loaded_model_lr = LinearRegressionModel.load('/content/spark_models/spark_lr.model')"
      ],
      "metadata": {
        "id": "S5aciJwTBCr8"
      },
      "execution_count": null,
      "outputs": []
    },
    {
      "cell_type": "code",
      "source": [
        "loaded_model_predict = loaded_model_lr.transform(test_data)\n",
        "loaded_model_predict.show(10)"
      ],
      "metadata": {
        "colab": {
          "base_uri": "https://localhost:8080/"
        },
        "id": "s1g8EWxjBTbM",
        "outputId": "410991f0-ec32-4b90-cb6e-d2b319da48d7"
      },
      "execution_count": null,
      "outputs": [
        {
          "output_type": "stream",
          "name": "stdout",
          "text": [
            "+--------------------+------+-----------------+\n",
            "|  vector_cols_scaled| CLOSE|       prediction|\n",
            "+--------------------+------+-----------------+\n",
            "|[0.00279306587056...| 684.5|683.7315749219374|\n",
            "|[0.00280222346358...| 684.0|684.6255383018158|\n",
            "|[0.00315936959129...| 685.0|684.8762369136288|\n",
            "|[0.00363556442824...|685.02|685.0143478709875|\n",
            "|[0.00371798276540...| 685.9|685.6996309926292|\n",
            "|[0.00380955869559...| 686.5|686.1884795012386|\n",
            "|[0.00407512889312...| 685.5|685.4943186689297|\n",
            "|[0.00444143261385...| 685.9| 685.894312248694|\n",
            "|[0.00453300854403...|684.01|684.5179015724975|\n",
            "|[0.00453300854403...|686.01| 686.375884029278|\n",
            "+--------------------+------+-----------------+\n",
            "only showing top 10 rows\n",
            "\n"
          ]
        }
      ]
    },
    {
      "cell_type": "markdown",
      "source": [
        "#Spark features engineering"
      ],
      "metadata": {
        "id": "JjGFkp-jB1DF"
      }
    },
    {
      "cell_type": "code",
      "source": [
        "from pyspark.sql.functions import isnan, count, col, when, split\n",
        "from pyspark.sql.types import *"
      ],
      "metadata": {
        "id": "RXinsZVWB56l"
      },
      "execution_count": null,
      "outputs": []
    },
    {
      "cell_type": "code",
      "source": [
        "data_spark.show(5)"
      ],
      "metadata": {
        "colab": {
          "base_uri": "https://localhost:8080/"
        },
        "id": "gjx46YalCcSc",
        "outputId": "5e2c9622-3809-4ed9-c23f-15ca11f0ea5f"
      },
      "execution_count": null,
      "outputs": [
        {
          "output_type": "stream",
          "name": "stdout",
          "text": [
            "+----------+--------+------+------+------+------+------+\n",
            "|      DATE|    TIME|  OPEN|   MAX|   MIN| CLOSE|VOLUME|\n",
            "+----------+--------+------+------+------+------+------+\n",
            "|05.01.2004|10:30:00|681.05| 685.0|681.05| 684.0|  4833|\n",
            "|05.01.2004|10:31:00|684.79| 688.0|684.01| 686.0|  7025|\n",
            "|05.01.2004|10:32:00| 685.0| 688.0| 685.0|685.12|  3956|\n",
            "|05.01.2004|10:33:00|686.98| 687.0|686.02|686.02|  1105|\n",
            "|05.01.2004|10:34:00| 687.0|688.68| 687.0| 688.0|  6270|\n",
            "+----------+--------+------+------+------+------+------+\n",
            "only showing top 5 rows\n",
            "\n"
          ]
        }
      ]
    },
    {
      "cell_type": "code",
      "source": [
        "data_spark_num = data_spark.select(['OPEN', 'MAX', 'MIN', 'CLOSE','VOLUME'])\n",
        "data_spark_num.show(5)"
      ],
      "metadata": {
        "colab": {
          "base_uri": "https://localhost:8080/"
        },
        "id": "zeK4W88PCz1R",
        "outputId": "c342a736-5067-4296-9657-c01bce8217c1"
      },
      "execution_count": null,
      "outputs": [
        {
          "output_type": "stream",
          "name": "stdout",
          "text": [
            "+------+------+------+------+------+\n",
            "|  OPEN|   MAX|   MIN| CLOSE|VOLUME|\n",
            "+------+------+------+------+------+\n",
            "|681.05| 685.0|681.05| 684.0|  4833|\n",
            "|684.79| 688.0|684.01| 686.0|  7025|\n",
            "| 685.0| 688.0| 685.0|685.12|  3956|\n",
            "|686.98| 687.0|686.02|686.02|  1105|\n",
            "| 687.0|688.68| 687.0| 688.0|  6270|\n",
            "+------+------+------+------+------+\n",
            "only showing top 5 rows\n",
            "\n"
          ]
        }
      ]
    },
    {
      "cell_type": "markdown",
      "source": [
        "##считаем пропуски"
      ],
      "metadata": {
        "id": "uO3gr774CleJ"
      }
    },
    {
      "cell_type": "code",
      "source": [
        "data_spark_num.select([count(when(isnan(c) | col(c).isNull(), c)).alias(c) for c in data_spark_num.columns]).show()"
      ],
      "metadata": {
        "colab": {
          "base_uri": "https://localhost:8080/"
        },
        "id": "fxCVYn7eCn3R",
        "outputId": "d643fd7d-05af-4dcc-8196-ab2ed276bb94"
      },
      "execution_count": null,
      "outputs": [
        {
          "output_type": "stream",
          "name": "stdout",
          "text": [
            "+----+---+---+-----+------+\n",
            "|OPEN|MAX|MIN|CLOSE|VOLUME|\n",
            "+----+---+---+-----+------+\n",
            "|   0|  0|  0|    0|     0|\n",
            "+----+---+---+-----+------+\n",
            "\n"
          ]
        }
      ]
    },
    {
      "cell_type": "markdown",
      "source": [
        "#Замена значений в столбце"
      ],
      "metadata": {
        "id": "eMTElIagDcT8"
      }
    },
    {
      "cell_type": "code",
      "source": [
        "#Замена значений\n",
        "data_spark_new = data_spark_num.withColumn('MAX',\n",
        "                                           when(data_spark_num['MAX']==688.0, 999999).\n",
        "                                           otherwise(data_spark_num['MAX']))\n",
        "data_spark_new.show(5)"
      ],
      "metadata": {
        "colab": {
          "base_uri": "https://localhost:8080/"
        },
        "id": "59DvSMj5Cn_d",
        "outputId": "3ec54c65-6693-4455-870b-de1e89b1cf48"
      },
      "execution_count": null,
      "outputs": [
        {
          "output_type": "stream",
          "name": "stdout",
          "text": [
            "+------+--------+------+------+------+\n",
            "|  OPEN|     MAX|   MIN| CLOSE|VOLUME|\n",
            "+------+--------+------+------+------+\n",
            "|681.05|   685.0|681.05| 684.0|  4833|\n",
            "|684.79|999999.0|684.01| 686.0|  7025|\n",
            "| 685.0|999999.0| 685.0|685.12|  3956|\n",
            "|686.98|   687.0|686.02|686.02|  1105|\n",
            "| 687.0|  688.68| 687.0| 688.0|  6270|\n",
            "+------+--------+------+------+------+\n",
            "only showing top 5 rows\n",
            "\n"
          ]
        }
      ]
    },
    {
      "cell_type": "markdown",
      "source": [
        "##сумма колонок"
      ],
      "metadata": {
        "id": "ArZoGKlBES-i"
      }
    },
    {
      "cell_type": "code",
      "source": [
        "data_spark_new = data_spark_num.withColumn('SUM', data_spark_num['MAX'] + data_spark_num['MIN'])\n",
        "data_spark_new.show(10)"
      ],
      "metadata": {
        "colab": {
          "base_uri": "https://localhost:8080/"
        },
        "id": "1ei7n8FHEU0D",
        "outputId": "f6070e9c-9ab3-4aca-9a76-aa7a01ca36e9"
      },
      "execution_count": null,
      "outputs": [
        {
          "output_type": "stream",
          "name": "stdout",
          "text": [
            "+------+------+------+------+------+------------------+\n",
            "|  OPEN|   MAX|   MIN| CLOSE|VOLUME|               SUM|\n",
            "+------+------+------+------+------+------------------+\n",
            "|681.05| 685.0|681.05| 684.0|  4833|           1366.05|\n",
            "|684.79| 688.0|684.01| 686.0|  7025|           1372.01|\n",
            "| 685.0| 688.0| 685.0|685.12|  3956|            1373.0|\n",
            "|686.98| 687.0|686.02|686.02|  1105|           1373.02|\n",
            "| 687.0|688.68| 687.0| 688.0|  6270|1375.6799999999998|\n",
            "| 688.5| 688.5|687.02| 687.9|   576|           1375.52|\n",
            "| 687.1| 687.1| 687.0| 687.0|  3330|            1374.1|\n",
            "|686.99|686.99| 686.0| 686.0|  2679|           1372.99|\n",
            "| 686.0| 686.5| 686.0| 686.0|  6227|            1372.5|\n",
            "| 686.5| 686.5| 686.0| 686.0|  1350|            1372.5|\n",
            "+------+------+------+------+------+------------------+\n",
            "only showing top 10 rows\n",
            "\n"
          ]
        }
      ]
    },
    {
      "cell_type": "markdown",
      "source": [
        "##Преобразование колонок в другой тип"
      ],
      "metadata": {
        "id": "lefykWmUEr_1"
      }
    },
    {
      "cell_type": "code",
      "source": [
        "columns_list = data_spark_new.columns\n",
        "\n",
        "for i in columns_list:\n",
        "  data_spark_new_float = data_spark_new.withColumn(i, data_spark_new[i].cast(StringType()))\n",
        "\n",
        "data_spark_new_float.show(10)"
      ],
      "metadata": {
        "id": "_4m3Mv7FEu-d"
      },
      "execution_count": null,
      "outputs": []
    },
    {
      "cell_type": "code",
      "source": [
        "data_spark_new_string_test = data_spark_new_float.withColumn('SUMM', data_spark_new_float['MAX'] + data_spark_new_float['MIN'])\n",
        "data_spark_new_string_test.show(10)"
      ],
      "metadata": {
        "id": "FPraAk-WFStE"
      },
      "execution_count": null,
      "outputs": []
    },
    {
      "cell_type": "code",
      "source": [
        "data_spark_new_string_test.dtypes"
      ],
      "metadata": {
        "colab": {
          "base_uri": "https://localhost:8080/"
        },
        "id": "K7p9-4hYFqT9",
        "outputId": "7e0035ea-e554-4d57-df25-b8ed05a23e86"
      },
      "execution_count": null,
      "outputs": [
        {
          "output_type": "execute_result",
          "data": {
            "text/plain": [
              "[('OPEN', 'double'),\n",
              " ('MAX', 'double'),\n",
              " ('MIN', 'double'),\n",
              " ('CLOSE', 'double'),\n",
              " ('VOLUME', 'int'),\n",
              " ('SUM', 'string'),\n",
              " ('SUMM', 'double')]"
            ]
          },
          "metadata": {},
          "execution_count": 64
        }
      ]
    }
  ]
}